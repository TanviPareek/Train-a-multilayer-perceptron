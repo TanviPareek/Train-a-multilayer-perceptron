{
 "cells": [
  {
   "cell_type": "code",
   "execution_count": 0,
   "metadata": {
    "colab": {},
    "colab_type": "code",
    "id": "uW8idroafReT"
   },
   "outputs": [],
   "source": [
    "from keras.models import Sequential\n",
    "from keras.layers import Dense, Activation,Flatten, Dropout, BatchNormalization\n",
    "import pandas as pd\n",
    "import numpy as np\n"
   ]
  },
  {
   "cell_type": "code",
   "execution_count": 0,
   "metadata": {
    "colab": {},
    "colab_type": "code",
    "id": "obrinZMcajIl"
   },
   "outputs": [],
   "source": [
    "from keras.datasets import fashion_mnist\n",
    "import keras\n",
    "(X_train, y_train), (X_test, y_test) = fashion_mnist.load_data()"
   ]
  },
  {
   "cell_type": "code",
   "execution_count": 31,
   "metadata": {
    "colab": {
     "base_uri": "https://localhost:8080/",
     "height": 52
    },
    "colab_type": "code",
    "id": "JcNfiiyockAJ",
    "outputId": "96a2b0de-0805-47d3-e2a5-f0cdeee3c629"
   },
   "outputs": [
    {
     "name": "stdout",
     "output_type": "stream",
     "text": [
      "(60000, 28, 28)\n",
      "(10000, 28, 28)\n"
     ]
    }
   ],
   "source": [
    "print(X_train.shape)\n",
    "print(X_test.shape)"
   ]
  },
  {
   "cell_type": "code",
   "execution_count": 32,
   "metadata": {
    "colab": {
     "base_uri": "https://localhost:8080/",
     "height": 52
    },
    "colab_type": "code",
    "id": "vcBp-H2Icj-O",
    "outputId": "90bfb3e3-43d1-4c1b-a2ae-c597e03e9f6b"
   },
   "outputs": [
    {
     "name": "stdout",
     "output_type": "stream",
     "text": [
      "60000 train samples\n",
      "10000 test samples\n"
     ]
    }
   ],
   "source": [
    "\n",
    "X_train = X_train.reshape(X_train.shape[0], 28, 28)\n",
    "X_test = X_test.reshape(X_test.shape[0], 28, 28)\n",
    "X_train = X_train.astype('float32')\n",
    "X_test = X_test.astype('float32')\n",
    "print(X_train.shape[0], 'train samples')\n",
    "print(X_test.shape[0], 'test samples')\n",
    "num_classes = 10\n",
    "# convert class vectors to binary class matrices\n",
    "y_train = keras.utils.to_categorical(y_train, num_classes)\n",
    "y_test = keras.utils.to_categorical(y_test, num_classes)"
   ]
  },
  {
   "cell_type": "markdown",
   "metadata": {
    "colab_type": "text",
    "id": "E8dWdZjynUii"
   },
   "source": [
    "Vanilla Model"
   ]
  },
  {
   "cell_type": "code",
   "execution_count": 0,
   "metadata": {
    "colab": {},
    "colab_type": "code",
    "id": "d3tNfbyVcj6u"
   },
   "outputs": [],
   "source": [
    "from keras.wrappers.scikit_learn import KerasClassifier, KerasRegressor\n",
    "from sklearn.model_selection import GridSearchCV\n",
    "from keras import regularizers\n",
    "def make_model():\n",
    "    model = Sequential([\n",
    "        Dense(64,activation='relu',input_shape=(28,28)),\n",
    "        Flatten(),\n",
    "        Dense(10,activation='softmax'),\n",
    "    ])\n",
    "    model.compile(optimizer=\"adam\",loss=\"categorical_crossentropy\",metrics=['accuracy'])\n",
    "    return model"
   ]
  },
  {
   "cell_type": "code",
   "execution_count": 53,
   "metadata": {
    "colab": {
     "base_uri": "https://localhost:8080/",
     "height": 1000
    },
    "colab_type": "code",
    "id": "acIplWDWcj5D",
    "outputId": "5a618b5b-6f98-4137-9b05-205ae489e1cc"
   },
   "outputs": [
    {
     "name": "stdout",
     "output_type": "stream",
     "text": [
      "Train on 50000 samples, validate on 10000 samples\n",
      "Epoch 1/100\n",
      "50000/50000 [==============================] - 2s 40us/step - loss: 8.7438 - accuracy: 0.7602 - val_loss: 3.8725 - val_accuracy: 0.8140\n",
      "Epoch 2/100\n",
      "50000/50000 [==============================] - 2s 39us/step - loss: 3.1367 - accuracy: 0.8209 - val_loss: 3.2434 - val_accuracy: 0.7898\n",
      "Epoch 3/100\n",
      "50000/50000 [==============================] - 2s 38us/step - loss: 1.8709 - accuracy: 0.8383 - val_loss: 1.9493 - val_accuracy: 0.8219\n",
      "Epoch 4/100\n",
      "50000/50000 [==============================] - 2s 38us/step - loss: 1.2625 - accuracy: 0.8457 - val_loss: 1.4746 - val_accuracy: 0.8207\n",
      "Epoch 5/100\n",
      "50000/50000 [==============================] - 2s 40us/step - loss: 0.8916 - accuracy: 0.8489 - val_loss: 1.1522 - val_accuracy: 0.8216\n",
      "Epoch 6/100\n",
      "50000/50000 [==============================] - 2s 38us/step - loss: 0.6832 - accuracy: 0.8543 - val_loss: 1.0219 - val_accuracy: 0.8245\n",
      "Epoch 7/100\n",
      "50000/50000 [==============================] - 2s 40us/step - loss: 0.5640 - accuracy: 0.8592 - val_loss: 0.8976 - val_accuracy: 0.8187\n",
      "Epoch 8/100\n",
      "50000/50000 [==============================] - 2s 40us/step - loss: 0.4836 - accuracy: 0.8670 - val_loss: 0.8272 - val_accuracy: 0.8299\n",
      "Epoch 9/100\n",
      "50000/50000 [==============================] - 2s 38us/step - loss: 0.4381 - accuracy: 0.8720 - val_loss: 0.7594 - val_accuracy: 0.8416\n",
      "Epoch 10/100\n",
      "50000/50000 [==============================] - 2s 40us/step - loss: 0.4008 - accuracy: 0.8775 - val_loss: 0.7736 - val_accuracy: 0.8358\n",
      "Epoch 11/100\n",
      "50000/50000 [==============================] - 2s 37us/step - loss: 0.3810 - accuracy: 0.8796 - val_loss: 0.7335 - val_accuracy: 0.8347\n",
      "Epoch 12/100\n",
      "50000/50000 [==============================] - 2s 39us/step - loss: 0.3624 - accuracy: 0.8820 - val_loss: 0.6985 - val_accuracy: 0.8450\n",
      "Epoch 13/100\n",
      "50000/50000 [==============================] - 2s 39us/step - loss: 0.3497 - accuracy: 0.8869 - val_loss: 0.7511 - val_accuracy: 0.8320\n",
      "Epoch 14/100\n",
      "50000/50000 [==============================] - 2s 40us/step - loss: 0.3400 - accuracy: 0.8882 - val_loss: 0.6990 - val_accuracy: 0.8430\n",
      "Epoch 15/100\n",
      "50000/50000 [==============================] - 2s 37us/step - loss: 0.3416 - accuracy: 0.8875 - val_loss: 0.6638 - val_accuracy: 0.8432\n",
      "Epoch 16/100\n",
      "50000/50000 [==============================] - 2s 38us/step - loss: 0.3263 - accuracy: 0.8897 - val_loss: 0.7171 - val_accuracy: 0.8362\n",
      "Epoch 17/100\n",
      "50000/50000 [==============================] - 2s 37us/step - loss: 0.3188 - accuracy: 0.8926 - val_loss: 0.6818 - val_accuracy: 0.8408\n",
      "Epoch 18/100\n",
      "50000/50000 [==============================] - 2s 39us/step - loss: 0.3173 - accuracy: 0.8924 - val_loss: 0.7074 - val_accuracy: 0.8338\n",
      "Epoch 19/100\n",
      "50000/50000 [==============================] - 2s 38us/step - loss: 0.3218 - accuracy: 0.8914 - val_loss: 0.6437 - val_accuracy: 0.8513\n",
      "Epoch 20/100\n",
      "50000/50000 [==============================] - 2s 41us/step - loss: 0.3116 - accuracy: 0.8947 - val_loss: 0.6736 - val_accuracy: 0.8479\n",
      "Epoch 21/100\n",
      "50000/50000 [==============================] - 2s 37us/step - loss: 0.3092 - accuracy: 0.8943 - val_loss: 0.6811 - val_accuracy: 0.8491\n",
      "Epoch 22/100\n",
      "50000/50000 [==============================] - 2s 40us/step - loss: 0.3005 - accuracy: 0.8960 - val_loss: 0.7106 - val_accuracy: 0.8437\n",
      "Epoch 23/100\n",
      "50000/50000 [==============================] - 2s 38us/step - loss: 0.3103 - accuracy: 0.8942 - val_loss: 0.7107 - val_accuracy: 0.8474\n",
      "Epoch 24/100\n",
      "50000/50000 [==============================] - 2s 38us/step - loss: 0.3072 - accuracy: 0.8949 - val_loss: 0.7545 - val_accuracy: 0.8331\n",
      "Epoch 25/100\n",
      "50000/50000 [==============================] - 2s 39us/step - loss: 0.3009 - accuracy: 0.8953 - val_loss: 0.6836 - val_accuracy: 0.8550\n",
      "Epoch 26/100\n",
      "50000/50000 [==============================] - 2s 38us/step - loss: 0.2920 - accuracy: 0.8986 - val_loss: 0.7147 - val_accuracy: 0.8485\n",
      "Epoch 27/100\n",
      "50000/50000 [==============================] - 2s 40us/step - loss: 0.2875 - accuracy: 0.9004 - val_loss: 0.6974 - val_accuracy: 0.8506\n",
      "Epoch 28/100\n",
      "50000/50000 [==============================] - 2s 37us/step - loss: 0.2932 - accuracy: 0.8973 - val_loss: 0.7421 - val_accuracy: 0.8423\n",
      "Epoch 29/100\n",
      "50000/50000 [==============================] - 2s 39us/step - loss: 0.2810 - accuracy: 0.9021 - val_loss: 0.7418 - val_accuracy: 0.8457\n",
      "Epoch 30/100\n",
      "50000/50000 [==============================] - 2s 39us/step - loss: 0.2799 - accuracy: 0.9015 - val_loss: 0.7577 - val_accuracy: 0.8496\n",
      "Epoch 31/100\n",
      "50000/50000 [==============================] - 2s 38us/step - loss: 0.2847 - accuracy: 0.9006 - val_loss: 0.7307 - val_accuracy: 0.8527\n",
      "Epoch 32/100\n",
      "50000/50000 [==============================] - 2s 38us/step - loss: 0.2813 - accuracy: 0.9027 - val_loss: 0.7373 - val_accuracy: 0.8487\n",
      "Epoch 33/100\n",
      "50000/50000 [==============================] - 2s 39us/step - loss: 0.2795 - accuracy: 0.9027 - val_loss: 0.7903 - val_accuracy: 0.8443\n",
      "Epoch 34/100\n",
      "50000/50000 [==============================] - 2s 37us/step - loss: 0.2752 - accuracy: 0.9039 - val_loss: 0.7644 - val_accuracy: 0.8401\n",
      "Epoch 35/100\n",
      "50000/50000 [==============================] - 2s 39us/step - loss: 0.2650 - accuracy: 0.9067 - val_loss: 0.7673 - val_accuracy: 0.8434\n",
      "Epoch 36/100\n",
      "50000/50000 [==============================] - 2s 38us/step - loss: 0.2667 - accuracy: 0.9071 - val_loss: 0.7708 - val_accuracy: 0.8473\n",
      "Epoch 37/100\n",
      "50000/50000 [==============================] - 2s 38us/step - loss: 0.2667 - accuracy: 0.9076 - val_loss: 0.8176 - val_accuracy: 0.8453\n",
      "Epoch 38/100\n",
      "50000/50000 [==============================] - 2s 38us/step - loss: 0.2715 - accuracy: 0.9059 - val_loss: 0.8276 - val_accuracy: 0.8391\n",
      "Epoch 39/100\n",
      "50000/50000 [==============================] - 2s 39us/step - loss: 0.2608 - accuracy: 0.9072 - val_loss: 0.8133 - val_accuracy: 0.8439\n",
      "Epoch 40/100\n",
      "50000/50000 [==============================] - 2s 37us/step - loss: 0.2646 - accuracy: 0.9077 - val_loss: 0.8154 - val_accuracy: 0.8499\n",
      "Epoch 41/100\n",
      "50000/50000 [==============================] - 2s 39us/step - loss: 0.2589 - accuracy: 0.9099 - val_loss: 0.8225 - val_accuracy: 0.8470\n",
      "Epoch 42/100\n",
      "50000/50000 [==============================] - 2s 38us/step - loss: 0.2561 - accuracy: 0.9102 - val_loss: 0.8139 - val_accuracy: 0.8480\n",
      "Epoch 43/100\n",
      "50000/50000 [==============================] - 2s 38us/step - loss: 0.2586 - accuracy: 0.9092 - val_loss: 0.8549 - val_accuracy: 0.8483\n",
      "Epoch 44/100\n",
      "50000/50000 [==============================] - 2s 39us/step - loss: 0.2526 - accuracy: 0.9101 - val_loss: 0.8527 - val_accuracy: 0.8409\n",
      "Epoch 45/100\n",
      "50000/50000 [==============================] - 2s 37us/step - loss: 0.2573 - accuracy: 0.9105 - val_loss: 0.8643 - val_accuracy: 0.8412\n",
      "Epoch 46/100\n",
      "50000/50000 [==============================] - 2s 40us/step - loss: 0.2605 - accuracy: 0.9088 - val_loss: 0.8644 - val_accuracy: 0.8429\n",
      "Epoch 47/100\n",
      "50000/50000 [==============================] - 2s 40us/step - loss: 0.2576 - accuracy: 0.9101 - val_loss: 0.8960 - val_accuracy: 0.8437\n",
      "Epoch 48/100\n",
      "50000/50000 [==============================] - 2s 37us/step - loss: 0.2545 - accuracy: 0.9101 - val_loss: 0.8958 - val_accuracy: 0.8424\n",
      "Epoch 49/100\n",
      "50000/50000 [==============================] - 2s 39us/step - loss: 0.2513 - accuracy: 0.9120 - val_loss: 0.9157 - val_accuracy: 0.8495\n",
      "Epoch 50/100\n",
      "50000/50000 [==============================] - 2s 38us/step - loss: 0.2473 - accuracy: 0.9132 - val_loss: 0.9316 - val_accuracy: 0.8505\n",
      "Epoch 51/100\n",
      "50000/50000 [==============================] - 2s 38us/step - loss: 0.2531 - accuracy: 0.9122 - val_loss: 0.9251 - val_accuracy: 0.8511\n",
      "Epoch 52/100\n",
      "50000/50000 [==============================] - 2s 40us/step - loss: 0.2489 - accuracy: 0.9126 - val_loss: 0.9463 - val_accuracy: 0.8422\n",
      "Epoch 53/100\n",
      "50000/50000 [==============================] - 2s 39us/step - loss: 0.2481 - accuracy: 0.9132 - val_loss: 0.9538 - val_accuracy: 0.8458\n",
      "Epoch 54/100\n",
      "50000/50000 [==============================] - 2s 38us/step - loss: 0.2497 - accuracy: 0.9132 - val_loss: 0.9367 - val_accuracy: 0.8503\n",
      "Epoch 55/100\n",
      "50000/50000 [==============================] - 2s 40us/step - loss: 0.2450 - accuracy: 0.9159 - val_loss: 0.9720 - val_accuracy: 0.8410\n",
      "Epoch 56/100\n",
      "50000/50000 [==============================] - 2s 39us/step - loss: 0.2462 - accuracy: 0.9124 - val_loss: 0.9495 - val_accuracy: 0.8502\n",
      "Epoch 57/100\n",
      "50000/50000 [==============================] - 2s 38us/step - loss: 0.2461 - accuracy: 0.9144 - val_loss: 0.9833 - val_accuracy: 0.8414\n",
      "Epoch 58/100\n",
      "50000/50000 [==============================] - 2s 41us/step - loss: 0.2397 - accuracy: 0.9149 - val_loss: 0.9578 - val_accuracy: 0.8468\n",
      "Epoch 59/100\n",
      "50000/50000 [==============================] - 2s 39us/step - loss: 0.2361 - accuracy: 0.9163 - val_loss: 0.9551 - val_accuracy: 0.8489\n",
      "Epoch 60/100\n",
      "50000/50000 [==============================] - 2s 36us/step - loss: 0.2362 - accuracy: 0.9168 - val_loss: 1.0025 - val_accuracy: 0.8437\n",
      "Epoch 61/100\n",
      "50000/50000 [==============================] - 2s 39us/step - loss: 0.2440 - accuracy: 0.9157 - val_loss: 1.0518 - val_accuracy: 0.8463\n",
      "Epoch 62/100\n",
      "50000/50000 [==============================] - 2s 37us/step - loss: 0.2441 - accuracy: 0.9145 - val_loss: 0.9975 - val_accuracy: 0.8416\n",
      "Epoch 63/100\n",
      "50000/50000 [==============================] - 2s 41us/step - loss: 0.2367 - accuracy: 0.9163 - val_loss: 1.0599 - val_accuracy: 0.8354\n",
      "Epoch 64/100\n",
      "50000/50000 [==============================] - 2s 37us/step - loss: 0.2389 - accuracy: 0.9163 - val_loss: 1.0561 - val_accuracy: 0.8361\n",
      "Epoch 65/100\n",
      "50000/50000 [==============================] - 2s 39us/step - loss: 0.2404 - accuracy: 0.9157 - val_loss: 1.0508 - val_accuracy: 0.8487\n",
      "Epoch 66/100\n",
      "50000/50000 [==============================] - 2s 40us/step - loss: 0.2360 - accuracy: 0.9179 - val_loss: 1.0533 - val_accuracy: 0.8458\n",
      "Epoch 67/100\n",
      "50000/50000 [==============================] - 2s 38us/step - loss: 0.2429 - accuracy: 0.9169 - val_loss: 1.1260 - val_accuracy: 0.8386\n",
      "Epoch 68/100\n",
      "50000/50000 [==============================] - 2s 42us/step - loss: 0.2387 - accuracy: 0.9170 - val_loss: 1.0780 - val_accuracy: 0.8431\n",
      "Epoch 69/100\n",
      "50000/50000 [==============================] - 2s 40us/step - loss: 0.2304 - accuracy: 0.9184 - val_loss: 1.1321 - val_accuracy: 0.8376\n",
      "Epoch 70/100\n",
      "50000/50000 [==============================] - 2s 42us/step - loss: 0.2402 - accuracy: 0.9168 - val_loss: 1.1000 - val_accuracy: 0.8434\n",
      "Epoch 71/100\n",
      "50000/50000 [==============================] - 2s 42us/step - loss: 0.2281 - accuracy: 0.9190 - val_loss: 1.1188 - val_accuracy: 0.8379\n",
      "Epoch 72/100\n",
      "50000/50000 [==============================] - 2s 43us/step - loss: 0.2418 - accuracy: 0.9156 - val_loss: 1.1756 - val_accuracy: 0.8436\n",
      "Epoch 73/100\n",
      "50000/50000 [==============================] - 2s 41us/step - loss: 0.2317 - accuracy: 0.9184 - val_loss: 1.1498 - val_accuracy: 0.8459\n",
      "Epoch 74/100\n",
      "50000/50000 [==============================] - 2s 43us/step - loss: 0.2259 - accuracy: 0.9199 - val_loss: 1.1908 - val_accuracy: 0.8428\n",
      "Epoch 75/100\n",
      "50000/50000 [==============================] - 2s 42us/step - loss: 0.2225 - accuracy: 0.9212 - val_loss: 1.1416 - val_accuracy: 0.8460\n",
      "Epoch 76/100\n",
      "50000/50000 [==============================] - 2s 42us/step - loss: 0.2293 - accuracy: 0.9194 - val_loss: 1.1968 - val_accuracy: 0.8490\n",
      "Epoch 77/100\n",
      "50000/50000 [==============================] - 2s 44us/step - loss: 0.2354 - accuracy: 0.9175 - val_loss: 1.2218 - val_accuracy: 0.8442\n",
      "Epoch 78/100\n",
      "50000/50000 [==============================] - 2s 44us/step - loss: 0.2300 - accuracy: 0.9190 - val_loss: 1.1730 - val_accuracy: 0.8487\n",
      "Epoch 79/100\n",
      "50000/50000 [==============================] - 2s 47us/step - loss: 0.2319 - accuracy: 0.9198 - val_loss: 1.1900 - val_accuracy: 0.8429\n",
      "Epoch 80/100\n",
      "50000/50000 [==============================] - 2s 46us/step - loss: 0.2322 - accuracy: 0.9200 - val_loss: 1.1936 - val_accuracy: 0.8428\n",
      "Epoch 81/100\n",
      "50000/50000 [==============================] - 2s 45us/step - loss: 0.2265 - accuracy: 0.9213 - val_loss: 1.1849 - val_accuracy: 0.8414\n",
      "Epoch 82/100\n",
      "50000/50000 [==============================] - 2s 40us/step - loss: 0.2334 - accuracy: 0.9186 - val_loss: 1.2525 - val_accuracy: 0.8448\n",
      "Epoch 83/100\n",
      "50000/50000 [==============================] - 2s 37us/step - loss: 0.2250 - accuracy: 0.9220 - val_loss: 1.2429 - val_accuracy: 0.8434\n",
      "Epoch 84/100\n",
      "50000/50000 [==============================] - 2s 39us/step - loss: 0.2358 - accuracy: 0.9189 - val_loss: 1.1917 - val_accuracy: 0.8405\n",
      "Epoch 85/100\n",
      "50000/50000 [==============================] - 2s 38us/step - loss: 0.2322 - accuracy: 0.9189 - val_loss: 1.2437 - val_accuracy: 0.8430\n",
      "Epoch 86/100\n",
      "50000/50000 [==============================] - 2s 38us/step - loss: 0.2303 - accuracy: 0.9201 - val_loss: 1.2278 - val_accuracy: 0.8473\n",
      "Epoch 87/100\n",
      "50000/50000 [==============================] - 2s 38us/step - loss: 0.2271 - accuracy: 0.9205 - val_loss: 1.2196 - val_accuracy: 0.8407\n",
      "Epoch 88/100\n",
      "50000/50000 [==============================] - 2s 36us/step - loss: 0.2321 - accuracy: 0.9189 - val_loss: 1.2921 - val_accuracy: 0.8363\n",
      "Epoch 89/100\n",
      "50000/50000 [==============================] - 2s 38us/step - loss: 0.2217 - accuracy: 0.9227 - val_loss: 1.2676 - val_accuracy: 0.8449\n",
      "Epoch 90/100\n",
      "50000/50000 [==============================] - 2s 37us/step - loss: 0.2209 - accuracy: 0.9231 - val_loss: 1.3271 - val_accuracy: 0.8382\n",
      "Epoch 91/100\n",
      "50000/50000 [==============================] - 2s 39us/step - loss: 0.2305 - accuracy: 0.9216 - val_loss: 1.2855 - val_accuracy: 0.8495\n",
      "Epoch 92/100\n",
      "50000/50000 [==============================] - 2s 38us/step - loss: 0.2236 - accuracy: 0.9225 - val_loss: 1.3777 - val_accuracy: 0.8374\n",
      "Epoch 93/100\n",
      "50000/50000 [==============================] - 2s 38us/step - loss: 0.2300 - accuracy: 0.9184 - val_loss: 1.3080 - val_accuracy: 0.8459\n",
      "Epoch 94/100\n",
      "50000/50000 [==============================] - 2s 39us/step - loss: 0.2256 - accuracy: 0.9222 - val_loss: 1.3478 - val_accuracy: 0.8412\n",
      "Epoch 95/100\n",
      "50000/50000 [==============================] - 2s 37us/step - loss: 0.2227 - accuracy: 0.9211 - val_loss: 1.3412 - val_accuracy: 0.8383\n",
      "Epoch 96/100\n",
      "50000/50000 [==============================] - 2s 39us/step - loss: 0.2249 - accuracy: 0.9213 - val_loss: 1.3683 - val_accuracy: 0.8410\n",
      "Epoch 97/100\n",
      "50000/50000 [==============================] - 2s 37us/step - loss: 0.2273 - accuracy: 0.9217 - val_loss: 1.3652 - val_accuracy: 0.8352\n",
      "Epoch 98/100\n",
      "50000/50000 [==============================] - 2s 39us/step - loss: 0.2219 - accuracy: 0.9224 - val_loss: 1.3690 - val_accuracy: 0.8451\n",
      "Epoch 99/100\n",
      "50000/50000 [==============================] - 2s 37us/step - loss: 0.2142 - accuracy: 0.9241 - val_loss: 1.3870 - val_accuracy: 0.8385\n",
      "Epoch 100/100\n",
      "50000/50000 [==============================] - 2s 39us/step - loss: 0.2160 - accuracy: 0.9250 - val_loss: 1.3838 - val_accuracy: 0.8364\n"
     ]
    }
   ],
   "source": [
    "clf = KerasClassifier(make_model)\n",
    "res=clf.fit(X_train, y_train, batch_size=128, epochs=100, verbose=1,validation_split=(10000/60000))"
   ]
  },
  {
   "cell_type": "code",
   "execution_count": 56,
   "metadata": {
    "colab": {
     "base_uri": "https://localhost:8080/",
     "height": 295
    },
    "colab_type": "code",
    "id": "PAyAwByRiMmA",
    "outputId": "ae3cd5e0-a2a1-450f-e411-2f22d5347586"
   },
   "outputs": [
    {
     "data": {
      "image/png": "[encoded data removed]",
      "text/plain": [
       "<Figure size 432x288 with 1 Axes>"
      ]
     },
     "metadata": {
      "needs_background": "light",
      "tags": []
     },
     "output_type": "display_data"
    }
   ],
   "source": [
    "import matplotlib.pyplot as plt\n",
    "pd.DataFrame(res.history).plot()\n",
    "plt.xlabel(\"No. of epochs\")\n",
    "plt.ylabel(\"Accuracy\")\n",
    "plt.title(\"Learning curve for vanilla model\");"
   ]
  },
  {
   "cell_type": "markdown",
   "metadata": {
    "colab_type": "text",
    "id": "6KU8sgckjsKp"
   },
   "source": [
    "The accuracy increases and the loss decreases with the epochs\n"
   ]
  },
  {
   "cell_type": "code",
   "execution_count": 57,
   "metadata": {
    "colab": {
     "base_uri": "https://localhost:8080/",
     "height": 35
    },
    "colab_type": "code",
    "id": "G36ZG8SHj1rH",
    "outputId": "6677c355-5a97-44f1-9967-6d421d068461"
   },
   "outputs": [
    {
     "name": "stdout",
     "output_type": "stream",
     "text": [
      "Test Accuracy:  0.8345999717712402\n"
     ]
    }
   ],
   "source": [
    "score = clf.score(X_test, y_test, verbose=0)\n",
    "print(\"Test Accuracy: \",score)"
   ]
  },
  {
   "cell_type": "markdown",
   "metadata": {
    "colab_type": "text",
    "id": "aod_xk-IsM0s"
   },
   "source": [
    "model using drop-out"
   ]
  },
  {
   "cell_type": "code",
   "execution_count": 69,
   "metadata": {
    "colab": {
     "base_uri": "https://localhost:8080/",
     "height": 1000
    },
    "colab_type": "code",
    "id": "0x9Ke0fhkYeQ",
    "outputId": "e9ec11fd-9eaf-4bd6-8177-971fa8bbc8ad"
   },
   "outputs": [
    {
     "name": "stdout",
     "output_type": "stream",
     "text": [
      "Train on 50000 samples, validate on 10000 samples\n",
      "Epoch 1/100\n",
      "50000/50000 [==============================] - 4s 86us/step - loss: 6.0650 - accuracy: 0.1553 - val_loss: 1.9204 - val_accuracy: 0.2595\n",
      "Epoch 2/100\n",
      "50000/50000 [==============================] - 4s 83us/step - loss: 1.9553 - accuracy: 0.2528 - val_loss: 1.4993 - val_accuracy: 0.4185\n",
      "Epoch 3/100\n",
      "50000/50000 [==============================] - 4s 82us/step - loss: 1.7033 - accuracy: 0.3397 - val_loss: 1.3749 - val_accuracy: 0.4658\n",
      "Epoch 4/100\n",
      "50000/50000 [==============================] - 4s 82us/step - loss: 1.5539 - accuracy: 0.3940 - val_loss: 1.1794 - val_accuracy: 0.5420\n",
      "Epoch 5/100\n",
      "50000/50000 [==============================] - 4s 82us/step - loss: 1.4225 - accuracy: 0.4450 - val_loss: 1.0386 - val_accuracy: 0.5972\n",
      "Epoch 6/100\n",
      "50000/50000 [==============================] - 4s 82us/step - loss: 1.3097 - accuracy: 0.4849 - val_loss: 0.9518 - val_accuracy: 0.6331\n",
      "Epoch 7/100\n",
      "50000/50000 [==============================] - 4s 82us/step - loss: 1.2447 - accuracy: 0.5124 - val_loss: 0.9169 - val_accuracy: 0.6755\n",
      "Epoch 8/100\n",
      "50000/50000 [==============================] - 4s 84us/step - loss: 1.2012 - accuracy: 0.5269 - val_loss: 0.9029 - val_accuracy: 0.6627\n",
      "Epoch 9/100\n",
      "50000/50000 [==============================] - 4s 84us/step - loss: 1.1576 - accuracy: 0.5387 - val_loss: 0.8387 - val_accuracy: 0.6733\n",
      "Epoch 10/100\n",
      "50000/50000 [==============================] - 4s 85us/step - loss: 1.1243 - accuracy: 0.5518 - val_loss: 0.8325 - val_accuracy: 0.6671\n",
      "Epoch 11/100\n",
      "50000/50000 [==============================] - 4s 83us/step - loss: 1.0747 - accuracy: 0.5682 - val_loss: 0.8004 - val_accuracy: 0.7135\n",
      "Epoch 12/100\n",
      "50000/50000 [==============================] - 4s 83us/step - loss: 1.0510 - accuracy: 0.5823 - val_loss: 0.7546 - val_accuracy: 0.7284\n",
      "Epoch 13/100\n",
      "50000/50000 [==============================] - 4s 84us/step - loss: 1.0155 - accuracy: 0.5962 - val_loss: 0.7295 - val_accuracy: 0.7392\n",
      "Epoch 14/100\n",
      "50000/50000 [==============================] - 4s 83us/step - loss: 0.9842 - accuracy: 0.6054 - val_loss: 0.7440 - val_accuracy: 0.7282\n",
      "Epoch 15/100\n",
      "50000/50000 [==============================] - 4s 86us/step - loss: 0.9578 - accuracy: 0.6192 - val_loss: 0.7191 - val_accuracy: 0.7418\n",
      "Epoch 16/100\n",
      "50000/50000 [==============================] - 4s 85us/step - loss: 0.9294 - accuracy: 0.6283 - val_loss: 0.7106 - val_accuracy: 0.7305\n",
      "Epoch 17/100\n",
      "50000/50000 [==============================] - 4s 85us/step - loss: 0.9014 - accuracy: 0.6395 - val_loss: 0.6753 - val_accuracy: 0.7478\n",
      "Epoch 18/100\n",
      "50000/50000 [==============================] - 4s 81us/step - loss: 0.8682 - accuracy: 0.6545 - val_loss: 0.6534 - val_accuracy: 0.7426\n",
      "Epoch 19/100\n",
      "50000/50000 [==============================] - 4s 83us/step - loss: 0.8283 - accuracy: 0.6723 - val_loss: 0.6128 - val_accuracy: 0.7602\n",
      "Epoch 20/100\n",
      "50000/50000 [==============================] - 4s 87us/step - loss: 0.8126 - accuracy: 0.6764 - val_loss: 0.6109 - val_accuracy: 0.7596\n",
      "Epoch 21/100\n",
      "50000/50000 [==============================] - 4s 83us/step - loss: 0.7887 - accuracy: 0.6835 - val_loss: 0.5955 - val_accuracy: 0.7632\n",
      "Epoch 22/100\n",
      "50000/50000 [==============================] - 4s 83us/step - loss: 0.7681 - accuracy: 0.6936 - val_loss: 0.5742 - val_accuracy: 0.7757\n",
      "Epoch 23/100\n",
      "50000/50000 [==============================] - 4s 84us/step - loss: 0.7420 - accuracy: 0.7064 - val_loss: 0.5525 - val_accuracy: 0.7913\n",
      "Epoch 24/100\n",
      "50000/50000 [==============================] - 4s 82us/step - loss: 0.7363 - accuracy: 0.7160 - val_loss: 0.5256 - val_accuracy: 0.8055\n",
      "Epoch 25/100\n",
      "50000/50000 [==============================] - 4s 84us/step - loss: 0.7104 - accuracy: 0.7255 - val_loss: 0.5272 - val_accuracy: 0.7963\n",
      "Epoch 26/100\n",
      "50000/50000 [==============================] - 4s 84us/step - loss: 0.6963 - accuracy: 0.7302 - val_loss: 0.5208 - val_accuracy: 0.8081\n",
      "Epoch 27/100\n",
      "50000/50000 [==============================] - 4s 83us/step - loss: 0.6879 - accuracy: 0.7395 - val_loss: 0.4822 - val_accuracy: 0.8395\n",
      "Epoch 28/100\n",
      "50000/50000 [==============================] - 4s 85us/step - loss: 0.6656 - accuracy: 0.7451 - val_loss: 0.4644 - val_accuracy: 0.8465\n",
      "Epoch 29/100\n",
      "50000/50000 [==============================] - 4s 85us/step - loss: 0.6559 - accuracy: 0.7547 - val_loss: 0.4478 - val_accuracy: 0.8553\n",
      "Epoch 30/100\n",
      "50000/50000 [==============================] - 4s 83us/step - loss: 0.6406 - accuracy: 0.7549 - val_loss: 0.4363 - val_accuracy: 0.8513\n",
      "Epoch 31/100\n",
      "50000/50000 [==============================] - 4s 83us/step - loss: 0.6312 - accuracy: 0.7586 - val_loss: 0.4513 - val_accuracy: 0.8515\n",
      "Epoch 32/100\n",
      "50000/50000 [==============================] - 4s 84us/step - loss: 0.6280 - accuracy: 0.7619 - val_loss: 0.4495 - val_accuracy: 0.8485\n",
      "Epoch 33/100\n",
      "50000/50000 [==============================] - 4s 84us/step - loss: 0.6196 - accuracy: 0.7625 - val_loss: 0.4326 - val_accuracy: 0.8505\n",
      "Epoch 34/100\n",
      "50000/50000 [==============================] - 4s 85us/step - loss: 0.6086 - accuracy: 0.7692 - val_loss: 0.4339 - val_accuracy: 0.8592\n",
      "Epoch 35/100\n",
      "50000/50000 [==============================] - 4s 85us/step - loss: 0.5949 - accuracy: 0.7743 - val_loss: 0.4289 - val_accuracy: 0.8609\n",
      "Epoch 36/100\n",
      "50000/50000 [==============================] - 4s 85us/step - loss: 0.6084 - accuracy: 0.7709 - val_loss: 0.4306 - val_accuracy: 0.8578\n",
      "Epoch 37/100\n",
      "50000/50000 [==============================] - 4s 87us/step - loss: 0.5970 - accuracy: 0.7756 - val_loss: 0.4197 - val_accuracy: 0.8576\n",
      "Epoch 38/100\n",
      "50000/50000 [==============================] - 4s 86us/step - loss: 0.5913 - accuracy: 0.7770 - val_loss: 0.4170 - val_accuracy: 0.8589\n",
      "Epoch 39/100\n",
      "50000/50000 [==============================] - 4s 86us/step - loss: 0.5824 - accuracy: 0.7798 - val_loss: 0.4102 - val_accuracy: 0.8640\n",
      "Epoch 40/100\n",
      "50000/50000 [==============================] - 4s 85us/step - loss: 0.5703 - accuracy: 0.7832 - val_loss: 0.4211 - val_accuracy: 0.8607\n",
      "Epoch 41/100\n",
      "50000/50000 [==============================] - 4s 88us/step - loss: 0.5611 - accuracy: 0.7880 - val_loss: 0.4126 - val_accuracy: 0.8597\n",
      "Epoch 42/100\n",
      "50000/50000 [==============================] - 4s 87us/step - loss: 0.5607 - accuracy: 0.7892 - val_loss: 0.4122 - val_accuracy: 0.8578\n",
      "Epoch 43/100\n",
      "50000/50000 [==============================] - 4s 88us/step - loss: 0.5573 - accuracy: 0.7925 - val_loss: 0.4079 - val_accuracy: 0.8598\n",
      "Epoch 44/100\n",
      "50000/50000 [==============================] - 4s 87us/step - loss: 0.5547 - accuracy: 0.7923 - val_loss: 0.4182 - val_accuracy: 0.8550\n",
      "Epoch 45/100\n",
      "50000/50000 [==============================] - 4s 85us/step - loss: 0.5567 - accuracy: 0.7929 - val_loss: 0.4045 - val_accuracy: 0.8585\n",
      "Epoch 46/100\n",
      "50000/50000 [==============================] - 4s 85us/step - loss: 0.5457 - accuracy: 0.7988 - val_loss: 0.4036 - val_accuracy: 0.8590\n",
      "Epoch 47/100\n",
      "50000/50000 [==============================] - 4s 83us/step - loss: 0.5449 - accuracy: 0.7972 - val_loss: 0.4025 - val_accuracy: 0.8653\n",
      "Epoch 48/100\n",
      "50000/50000 [==============================] - 4s 82us/step - loss: 0.5384 - accuracy: 0.8001 - val_loss: 0.4087 - val_accuracy: 0.8599\n",
      "Epoch 49/100\n",
      "50000/50000 [==============================] - 4s 85us/step - loss: 0.5445 - accuracy: 0.7972 - val_loss: 0.3993 - val_accuracy: 0.8624\n",
      "Epoch 50/100\n",
      "50000/50000 [==============================] - 4s 82us/step - loss: 0.5346 - accuracy: 0.8000 - val_loss: 0.3986 - val_accuracy: 0.8660\n",
      "Epoch 51/100\n",
      "50000/50000 [==============================] - 4s 84us/step - loss: 0.5343 - accuracy: 0.8040 - val_loss: 0.3863 - val_accuracy: 0.8677\n",
      "Epoch 52/100\n",
      "50000/50000 [==============================] - 4s 84us/step - loss: 0.5336 - accuracy: 0.8018 - val_loss: 0.3942 - val_accuracy: 0.8662\n",
      "Epoch 53/100\n",
      "50000/50000 [==============================] - 4s 82us/step - loss: 0.5316 - accuracy: 0.8014 - val_loss: 0.3929 - val_accuracy: 0.8621\n",
      "Epoch 54/100\n",
      "50000/50000 [==============================] - 4s 84us/step - loss: 0.5322 - accuracy: 0.8013 - val_loss: 0.4019 - val_accuracy: 0.8573\n",
      "Epoch 55/100\n",
      "50000/50000 [==============================] - 4s 83us/step - loss: 0.5158 - accuracy: 0.8080 - val_loss: 0.3999 - val_accuracy: 0.8631\n",
      "Epoch 56/100\n",
      "50000/50000 [==============================] - 4s 85us/step - loss: 0.5194 - accuracy: 0.8059 - val_loss: 0.3763 - val_accuracy: 0.8696\n",
      "Epoch 57/100\n",
      "50000/50000 [==============================] - 4s 83us/step - loss: 0.5247 - accuracy: 0.8068 - val_loss: 0.3811 - val_accuracy: 0.8694\n",
      "Epoch 58/100\n",
      "50000/50000 [==============================] - 4s 85us/step - loss: 0.5113 - accuracy: 0.8108 - val_loss: 0.3941 - val_accuracy: 0.8694\n",
      "Epoch 59/100\n",
      "50000/50000 [==============================] - 4s 84us/step - loss: 0.5167 - accuracy: 0.8114 - val_loss: 0.3926 - val_accuracy: 0.8668\n",
      "Epoch 60/100\n",
      "50000/50000 [==============================] - 4s 84us/step - loss: 0.5082 - accuracy: 0.8121 - val_loss: 0.3927 - val_accuracy: 0.8706\n",
      "Epoch 61/100\n",
      "50000/50000 [==============================] - 4s 84us/step - loss: 0.5196 - accuracy: 0.8109 - val_loss: 0.3767 - val_accuracy: 0.8681\n",
      "Epoch 62/100\n",
      "50000/50000 [==============================] - 4s 83us/step - loss: 0.5061 - accuracy: 0.8133 - val_loss: 0.3761 - val_accuracy: 0.8694\n",
      "Epoch 63/100\n",
      "50000/50000 [==============================] - 4s 84us/step - loss: 0.5040 - accuracy: 0.8158 - val_loss: 0.3909 - val_accuracy: 0.8662\n",
      "Epoch 64/100\n",
      "50000/50000 [==============================] - 4s 83us/step - loss: 0.5049 - accuracy: 0.8144 - val_loss: 0.3801 - val_accuracy: 0.8678\n",
      "Epoch 65/100\n",
      "50000/50000 [==============================] - 4s 84us/step - loss: 0.5076 - accuracy: 0.8133 - val_loss: 0.3859 - val_accuracy: 0.8607\n",
      "Epoch 66/100\n",
      "50000/50000 [==============================] - 4s 82us/step - loss: 0.5031 - accuracy: 0.8175 - val_loss: 0.3843 - val_accuracy: 0.8734\n",
      "Epoch 67/100\n",
      "50000/50000 [==============================] - 4s 82us/step - loss: 0.5003 - accuracy: 0.8169 - val_loss: 0.3953 - val_accuracy: 0.8681\n",
      "Epoch 68/100\n",
      "50000/50000 [==============================] - 4s 81us/step - loss: 0.4979 - accuracy: 0.8166 - val_loss: 0.3816 - val_accuracy: 0.8643\n",
      "Epoch 69/100\n",
      "50000/50000 [==============================] - 4s 82us/step - loss: 0.4968 - accuracy: 0.8191 - val_loss: 0.3744 - val_accuracy: 0.8668\n",
      "Epoch 70/100\n",
      "50000/50000 [==============================] - 4s 82us/step - loss: 0.4979 - accuracy: 0.8190 - val_loss: 0.3910 - val_accuracy: 0.8624\n",
      "Epoch 71/100\n",
      "50000/50000 [==============================] - 4s 82us/step - loss: 0.4948 - accuracy: 0.8194 - val_loss: 0.3947 - val_accuracy: 0.8697\n",
      "Epoch 72/100\n",
      "50000/50000 [==============================] - 4s 83us/step - loss: 0.4976 - accuracy: 0.8174 - val_loss: 0.3757 - val_accuracy: 0.8723\n",
      "Epoch 73/100\n",
      "50000/50000 [==============================] - 4s 83us/step - loss: 0.4955 - accuracy: 0.8197 - val_loss: 0.3863 - val_accuracy: 0.8635\n",
      "Epoch 74/100\n",
      "50000/50000 [==============================] - 4s 83us/step - loss: 0.4926 - accuracy: 0.8177 - val_loss: 0.3719 - val_accuracy: 0.8660\n",
      "Epoch 75/100\n",
      "50000/50000 [==============================] - 4s 82us/step - loss: 0.4915 - accuracy: 0.8213 - val_loss: 0.3767 - val_accuracy: 0.8689\n",
      "Epoch 76/100\n",
      "50000/50000 [==============================] - 4s 84us/step - loss: 0.4863 - accuracy: 0.8216 - val_loss: 0.3763 - val_accuracy: 0.8675\n",
      "Epoch 77/100\n",
      "50000/50000 [==============================] - 4s 84us/step - loss: 0.4827 - accuracy: 0.8215 - val_loss: 0.3825 - val_accuracy: 0.8714\n",
      "Epoch 78/100\n",
      "50000/50000 [==============================] - 4s 83us/step - loss: 0.4777 - accuracy: 0.8212 - val_loss: 0.3878 - val_accuracy: 0.8587\n",
      "Epoch 79/100\n",
      "50000/50000 [==============================] - 4s 83us/step - loss: 0.4783 - accuracy: 0.8228 - val_loss: 0.3781 - val_accuracy: 0.8696\n",
      "Epoch 80/100\n",
      "50000/50000 [==============================] - 4s 84us/step - loss: 0.4773 - accuracy: 0.8265 - val_loss: 0.3993 - val_accuracy: 0.8691\n",
      "Epoch 81/100\n",
      "50000/50000 [==============================] - 4s 83us/step - loss: 0.4907 - accuracy: 0.8219 - val_loss: 0.3700 - val_accuracy: 0.8751\n",
      "Epoch 82/100\n",
      "50000/50000 [==============================] - 4s 83us/step - loss: 0.4734 - accuracy: 0.8251 - val_loss: 0.3716 - val_accuracy: 0.8671\n",
      "Epoch 83/100\n",
      "50000/50000 [==============================] - 4s 84us/step - loss: 0.4750 - accuracy: 0.8252 - val_loss: 0.3760 - val_accuracy: 0.8704\n",
      "Epoch 84/100\n",
      "50000/50000 [==============================] - 4s 84us/step - loss: 0.4711 - accuracy: 0.8264 - val_loss: 0.3682 - val_accuracy: 0.8704\n",
      "Epoch 85/100\n",
      "50000/50000 [==============================] - 4s 83us/step - loss: 0.4751 - accuracy: 0.8269 - val_loss: 0.3744 - val_accuracy: 0.8677\n",
      "Epoch 86/100\n",
      "50000/50000 [==============================] - 4s 83us/step - loss: 0.4770 - accuracy: 0.8246 - val_loss: 0.3723 - val_accuracy: 0.8650\n",
      "Epoch 87/100\n",
      "50000/50000 [==============================] - 4s 84us/step - loss: 0.4651 - accuracy: 0.8297 - val_loss: 0.3549 - val_accuracy: 0.8774\n",
      "Epoch 88/100\n",
      "50000/50000 [==============================] - 4s 84us/step - loss: 0.4686 - accuracy: 0.8286 - val_loss: 0.3585 - val_accuracy: 0.8756\n",
      "Epoch 89/100\n",
      "50000/50000 [==============================] - 4s 83us/step - loss: 0.4666 - accuracy: 0.8288 - val_loss: 0.3695 - val_accuracy: 0.8712\n",
      "Epoch 90/100\n",
      "50000/50000 [==============================] - 4s 83us/step - loss: 0.4622 - accuracy: 0.8332 - val_loss: 0.3664 - val_accuracy: 0.8733\n",
      "Epoch 91/100\n",
      "50000/50000 [==============================] - 4s 82us/step - loss: 0.4631 - accuracy: 0.8305 - val_loss: 0.3557 - val_accuracy: 0.8745\n",
      "Epoch 92/100\n",
      "50000/50000 [==============================] - 4s 83us/step - loss: 0.4629 - accuracy: 0.8289 - val_loss: 0.3642 - val_accuracy: 0.8743\n",
      "Epoch 93/100\n",
      "50000/50000 [==============================] - 4s 81us/step - loss: 0.4624 - accuracy: 0.8307 - val_loss: 0.3679 - val_accuracy: 0.8718\n",
      "Epoch 94/100\n",
      "50000/50000 [==============================] - 4s 88us/step - loss: 0.4643 - accuracy: 0.8305 - val_loss: 0.3591 - val_accuracy: 0.8677\n",
      "Epoch 95/100\n",
      "50000/50000 [==============================] - 7s 147us/step - loss: 0.4633 - accuracy: 0.8309 - val_loss: 0.3808 - val_accuracy: 0.8629\n",
      "Epoch 96/100\n",
      "50000/50000 [==============================] - 6s 111us/step - loss: 0.4683 - accuracy: 0.8303 - val_loss: 0.3627 - val_accuracy: 0.8716\n",
      "Epoch 97/100\n",
      "50000/50000 [==============================] - 4s 81us/step - loss: 0.4604 - accuracy: 0.8323 - val_loss: 0.3514 - val_accuracy: 0.8755\n",
      "Epoch 98/100\n",
      "50000/50000 [==============================] - 4s 83us/step - loss: 0.4646 - accuracy: 0.8320 - val_loss: 0.3692 - val_accuracy: 0.8647\n",
      "Epoch 99/100\n",
      "50000/50000 [==============================] - 4s 82us/step - loss: 0.4636 - accuracy: 0.8301 - val_loss: 0.3656 - val_accuracy: 0.8714\n",
      "Epoch 100/100\n",
      "50000/50000 [==============================] - 4s 83us/step - loss: 0.4572 - accuracy: 0.8304 - val_loss: 0.3553 - val_accuracy: 0.8757\n"
     ]
    }
   ],
   "source": [
    "def make_model_drop():\n",
    "          model = Sequential()\n",
    "          model.add(Dense(64, input_shape=input_shape, activation='relu'))\n",
    "          model.add(Dropout(0.5))\n",
    "          model.add(Flatten())\n",
    "          model.add(Dense(64, input_shape=input_shape, activation='relu'))\n",
    "          model.add(Dropout(0.5))\n",
    "          model.add(Dense(10, activation='softmax'))\n",
    "          model.compile(loss='categorical_crossentropy', optimizer='adam', metrics=['accuracy'])\n",
    "          return model\n",
    "clf1 = KerasClassifier(make_model_drop)\n",
    "res1=clf1.fit(X_train, y_train, batch_size=128, epochs=100, verbose=1,validation_split=(10000/60000))"
   ]
  },
  {
   "cell_type": "code",
   "execution_count": 70,
   "metadata": {
    "colab": {
     "base_uri": "https://localhost:8080/",
     "height": 295
    },
    "colab_type": "code",
    "id": "LQXLZSS0rvIF",
    "outputId": "e3a283d2-eec7-427c-b03d-6981460561ce"
   },
   "outputs": [
    {
     "data": {
      "image/png": "[encoded data removed]",
      "text/plain": [
       "<Figure size 432x288 with 1 Axes>"
      ]
     },
     "metadata": {
      "needs_background": "light",
      "tags": []
     },
     "output_type": "display_data"
    }
   ],
   "source": [
    "pd.DataFrame(res1.history).plot()\n",
    "plt.xlabel(\"No. of epochs\")\n",
    "plt.ylabel(\"Accuracy\")\n",
    "plt.title(\"Learning curve for model with dropout\");"
   ]
  },
  {
   "cell_type": "code",
   "execution_count": 71,
   "metadata": {
    "colab": {
     "base_uri": "https://localhost:8080/",
     "height": 35
    },
    "colab_type": "code",
    "id": "u2i9YX0axP16",
    "outputId": "e18abae0-d755-434c-ada5-1e1b97a935e5"
   },
   "outputs": [
    {
     "name": "stdout",
     "output_type": "stream",
     "text": [
      "Test Accuracy:  0.8707000017166138\n"
     ]
    }
   ],
   "source": [
    "score = clf1.score(X_test, y_test, verbose=0)\n",
    "print(\"Test Accuracy: \",score)"
   ]
  },
  {
   "cell_type": "markdown",
   "metadata": {
    "colab_type": "text",
    "id": "iLeodTSvDuf5"
   },
   "source": [
    "Performance of model with drop out is better than vanilla model. We were also able to learn a bigger network."
   ]
  },
  {
   "cell_type": "markdown",
   "metadata": {
    "colab_type": "text",
    "id": "qDFm3pRBE0Nv"
   },
   "source": [
    "MODEL 3 a model using batch normalization"
   ]
  },
  {
   "cell_type": "code",
   "execution_count": 72,
   "metadata": {
    "colab": {
     "base_uri": "https://localhost:8080/",
     "height": 1000
    },
    "colab_type": "code",
    "id": "HLndCVKSxQxQ",
    "outputId": "ae5edc61-7bff-4696-fa9b-d1cc3226a7c4"
   },
   "outputs": [
    {
     "name": "stdout",
     "output_type": "stream",
     "text": [
      "Train on 50000 samples, validate on 10000 samples\n",
      "Epoch 1/100\n",
      "50000/50000 [==============================] - 5s 101us/step - loss: 0.4464 - accuracy: 0.8439 - val_loss: 0.3489 - val_accuracy: 0.8724\n",
      "Epoch 2/100\n",
      "50000/50000 [==============================] - 5s 93us/step - loss: 0.3054 - accuracy: 0.8885 - val_loss: 0.3211 - val_accuracy: 0.8824\n",
      "Epoch 3/100\n",
      "50000/50000 [==============================] - 5s 92us/step - loss: 0.2599 - accuracy: 0.9050 - val_loss: 0.3198 - val_accuracy: 0.8850\n",
      "Epoch 4/100\n",
      "50000/50000 [==============================] - 5s 93us/step - loss: 0.2280 - accuracy: 0.9165 - val_loss: 0.3201 - val_accuracy: 0.8872\n",
      "Epoch 5/100\n",
      "50000/50000 [==============================] - 5s 94us/step - loss: 0.2015 - accuracy: 0.9262 - val_loss: 0.3090 - val_accuracy: 0.8914\n",
      "Epoch 6/100\n",
      "50000/50000 [==============================] - 5s 92us/step - loss: 0.1808 - accuracy: 0.9345 - val_loss: 0.3218 - val_accuracy: 0.8902\n",
      "Epoch 7/100\n",
      "50000/50000 [==============================] - 5s 93us/step - loss: 0.1609 - accuracy: 0.9428 - val_loss: 0.3311 - val_accuracy: 0.8871\n",
      "Epoch 8/100\n",
      "50000/50000 [==============================] - 5s 92us/step - loss: 0.1449 - accuracy: 0.9476 - val_loss: 0.3388 - val_accuracy: 0.8873\n",
      "Epoch 9/100\n",
      "50000/50000 [==============================] - 5s 94us/step - loss: 0.1300 - accuracy: 0.9539 - val_loss: 0.3562 - val_accuracy: 0.8897\n",
      "Epoch 10/100\n",
      "50000/50000 [==============================] - 5s 92us/step - loss: 0.1176 - accuracy: 0.9579 - val_loss: 0.3733 - val_accuracy: 0.8905\n",
      "Epoch 11/100\n",
      "50000/50000 [==============================] - 5s 92us/step - loss: 0.1054 - accuracy: 0.9630 - val_loss: 0.4002 - val_accuracy: 0.8832\n",
      "Epoch 12/100\n",
      "50000/50000 [==============================] - 5s 93us/step - loss: 0.0967 - accuracy: 0.9657 - val_loss: 0.3853 - val_accuracy: 0.8869\n",
      "Epoch 13/100\n",
      "50000/50000 [==============================] - 5s 93us/step - loss: 0.0847 - accuracy: 0.9703 - val_loss: 0.4159 - val_accuracy: 0.8771\n",
      "Epoch 14/100\n",
      "50000/50000 [==============================] - 5s 94us/step - loss: 0.0808 - accuracy: 0.9712 - val_loss: 0.4336 - val_accuracy: 0.8844\n",
      "Epoch 15/100\n",
      "50000/50000 [==============================] - 5s 93us/step - loss: 0.0744 - accuracy: 0.9733 - val_loss: 0.4521 - val_accuracy: 0.8773\n",
      "Epoch 16/100\n",
      "50000/50000 [==============================] - 5s 93us/step - loss: 0.0692 - accuracy: 0.9756 - val_loss: 0.4471 - val_accuracy: 0.8838\n",
      "Epoch 17/100\n",
      "50000/50000 [==============================] - 5s 94us/step - loss: 0.0623 - accuracy: 0.9787 - val_loss: 0.4543 - val_accuracy: 0.8846\n",
      "Epoch 18/100\n",
      "50000/50000 [==============================] - 5s 93us/step - loss: 0.0567 - accuracy: 0.9805 - val_loss: 0.4977 - val_accuracy: 0.8806\n",
      "Epoch 19/100\n",
      "50000/50000 [==============================] - 5s 91us/step - loss: 0.0530 - accuracy: 0.9817 - val_loss: 0.5178 - val_accuracy: 0.8797\n",
      "Epoch 20/100\n",
      "50000/50000 [==============================] - 5s 93us/step - loss: 0.0492 - accuracy: 0.9831 - val_loss: 0.5253 - val_accuracy: 0.8826\n",
      "Epoch 21/100\n",
      "50000/50000 [==============================] - 5s 92us/step - loss: 0.0466 - accuracy: 0.9836 - val_loss: 0.5149 - val_accuracy: 0.8832\n",
      "Epoch 22/100\n",
      "50000/50000 [==============================] - 5s 92us/step - loss: 0.0410 - accuracy: 0.9864 - val_loss: 0.5712 - val_accuracy: 0.8764\n",
      "Epoch 23/100\n",
      "50000/50000 [==============================] - 5s 93us/step - loss: 0.0441 - accuracy: 0.9850 - val_loss: 0.5557 - val_accuracy: 0.8843\n",
      "Epoch 24/100\n",
      "50000/50000 [==============================] - 5s 92us/step - loss: 0.0380 - accuracy: 0.9874 - val_loss: 0.5464 - val_accuracy: 0.8755\n",
      "Epoch 25/100\n",
      "50000/50000 [==============================] - 5s 92us/step - loss: 0.0373 - accuracy: 0.9871 - val_loss: 0.5419 - val_accuracy: 0.8836\n",
      "Epoch 26/100\n",
      "50000/50000 [==============================] - 5s 92us/step - loss: 0.0403 - accuracy: 0.9855 - val_loss: 0.5871 - val_accuracy: 0.8800\n",
      "Epoch 27/100\n",
      "50000/50000 [==============================] - 5s 90us/step - loss: 0.0324 - accuracy: 0.9890 - val_loss: 0.5673 - val_accuracy: 0.8790\n",
      "Epoch 28/100\n",
      "50000/50000 [==============================] - 5s 91us/step - loss: 0.0310 - accuracy: 0.9894 - val_loss: 0.6049 - val_accuracy: 0.8797\n",
      "Epoch 29/100\n",
      "50000/50000 [==============================] - 5s 91us/step - loss: 0.0285 - accuracy: 0.9909 - val_loss: 0.6016 - val_accuracy: 0.8812\n",
      "Epoch 30/100\n",
      "50000/50000 [==============================] - 4s 90us/step - loss: 0.0279 - accuracy: 0.9905 - val_loss: 0.6075 - val_accuracy: 0.8782\n",
      "Epoch 31/100\n",
      "50000/50000 [==============================] - 5s 92us/step - loss: 0.0282 - accuracy: 0.9901 - val_loss: 0.6252 - val_accuracy: 0.8798\n",
      "Epoch 32/100\n",
      "50000/50000 [==============================] - 5s 92us/step - loss: 0.0284 - accuracy: 0.9905 - val_loss: 0.6142 - val_accuracy: 0.8776\n",
      "Epoch 33/100\n",
      "50000/50000 [==============================] - 5s 93us/step - loss: 0.0301 - accuracy: 0.9897 - val_loss: 0.6295 - val_accuracy: 0.8777\n",
      "Epoch 34/100\n",
      "50000/50000 [==============================] - 5s 92us/step - loss: 0.0237 - accuracy: 0.9918 - val_loss: 0.6215 - val_accuracy: 0.8809\n",
      "Epoch 35/100\n",
      "50000/50000 [==============================] - 5s 92us/step - loss: 0.0234 - accuracy: 0.9920 - val_loss: 0.6658 - val_accuracy: 0.8799\n",
      "Epoch 36/100\n",
      "50000/50000 [==============================] - 5s 92us/step - loss: 0.0217 - accuracy: 0.9925 - val_loss: 0.6477 - val_accuracy: 0.8817\n",
      "Epoch 37/100\n",
      "50000/50000 [==============================] - 5s 95us/step - loss: 0.0213 - accuracy: 0.9931 - val_loss: 0.6868 - val_accuracy: 0.8780\n",
      "Epoch 38/100\n",
      "50000/50000 [==============================] - 5s 95us/step - loss: 0.0219 - accuracy: 0.9928 - val_loss: 0.6912 - val_accuracy: 0.8781\n",
      "Epoch 39/100\n",
      "50000/50000 [==============================] - 5s 91us/step - loss: 0.0252 - accuracy: 0.9913 - val_loss: 0.6904 - val_accuracy: 0.8805\n",
      "Epoch 40/100\n",
      "50000/50000 [==============================] - 5s 91us/step - loss: 0.0237 - accuracy: 0.9915 - val_loss: 0.6651 - val_accuracy: 0.8841\n",
      "Epoch 41/100\n",
      "50000/50000 [==============================] - 5s 91us/step - loss: 0.0181 - accuracy: 0.9942 - val_loss: 0.6977 - val_accuracy: 0.8816\n",
      "Epoch 42/100\n",
      "50000/50000 [==============================] - 5s 91us/step - loss: 0.0175 - accuracy: 0.9941 - val_loss: 0.7093 - val_accuracy: 0.8807\n",
      "Epoch 43/100\n",
      "50000/50000 [==============================] - 5s 93us/step - loss: 0.0196 - accuracy: 0.9935 - val_loss: 0.6926 - val_accuracy: 0.8814\n",
      "Epoch 44/100\n",
      "50000/50000 [==============================] - 5s 93us/step - loss: 0.0196 - accuracy: 0.9933 - val_loss: 0.6955 - val_accuracy: 0.8844\n",
      "Epoch 45/100\n",
      "50000/50000 [==============================] - 5s 91us/step - loss: 0.0182 - accuracy: 0.9940 - val_loss: 0.7156 - val_accuracy: 0.8843\n",
      "Epoch 46/100\n",
      "50000/50000 [==============================] - 5s 95us/step - loss: 0.0194 - accuracy: 0.9932 - val_loss: 0.7679 - val_accuracy: 0.8784\n",
      "Epoch 47/100\n",
      "50000/50000 [==============================] - 5s 93us/step - loss: 0.0183 - accuracy: 0.9937 - val_loss: 0.7506 - val_accuracy: 0.8785\n",
      "Epoch 48/100\n",
      "50000/50000 [==============================] - 5s 93us/step - loss: 0.0177 - accuracy: 0.9937 - val_loss: 0.7317 - val_accuracy: 0.8772\n",
      "Epoch 49/100\n",
      "50000/50000 [==============================] - 5s 93us/step - loss: 0.0168 - accuracy: 0.9944 - val_loss: 0.7183 - val_accuracy: 0.8832\n",
      "Epoch 50/100\n",
      "50000/50000 [==============================] - 5s 92us/step - loss: 0.0162 - accuracy: 0.9943 - val_loss: 0.7438 - val_accuracy: 0.8808\n",
      "Epoch 51/100\n",
      "50000/50000 [==============================] - 5s 92us/step - loss: 0.0167 - accuracy: 0.9942 - val_loss: 0.7609 - val_accuracy: 0.8810\n",
      "Epoch 52/100\n",
      "50000/50000 [==============================] - 5s 97us/step - loss: 0.0198 - accuracy: 0.9933 - val_loss: 0.7654 - val_accuracy: 0.8829\n",
      "Epoch 53/100\n",
      "50000/50000 [==============================] - 5s 104us/step - loss: 0.0149 - accuracy: 0.9955 - val_loss: 0.7353 - val_accuracy: 0.8828\n",
      "Epoch 54/100\n",
      "50000/50000 [==============================] - 5s 95us/step - loss: 0.0129 - accuracy: 0.9957 - val_loss: 0.7515 - val_accuracy: 0.8798\n",
      "Epoch 55/100\n",
      "50000/50000 [==============================] - 5s 90us/step - loss: 0.0148 - accuracy: 0.9952 - val_loss: 0.7588 - val_accuracy: 0.8785\n",
      "Epoch 56/100\n",
      "50000/50000 [==============================] - 5s 91us/step - loss: 0.0194 - accuracy: 0.9934 - val_loss: 0.7759 - val_accuracy: 0.8806\n",
      "Epoch 57/100\n",
      "50000/50000 [==============================] - 5s 92us/step - loss: 0.0144 - accuracy: 0.9953 - val_loss: 0.7299 - val_accuracy: 0.8852\n",
      "Epoch 58/100\n",
      "50000/50000 [==============================] - 5s 91us/step - loss: 0.0114 - accuracy: 0.9962 - val_loss: 0.7659 - val_accuracy: 0.8803\n",
      "Epoch 59/100\n",
      "50000/50000 [==============================] - 5s 92us/step - loss: 0.0130 - accuracy: 0.9959 - val_loss: 0.8139 - val_accuracy: 0.8822\n",
      "Epoch 60/100\n",
      "50000/50000 [==============================] - 5s 91us/step - loss: 0.0151 - accuracy: 0.9949 - val_loss: 0.7520 - val_accuracy: 0.8796\n",
      "Epoch 61/100\n",
      "50000/50000 [==============================] - 5s 92us/step - loss: 0.0132 - accuracy: 0.9958 - val_loss: 0.7625 - val_accuracy: 0.8818\n",
      "Epoch 62/100\n",
      "50000/50000 [==============================] - 5s 93us/step - loss: 0.0132 - accuracy: 0.9957 - val_loss: 0.8088 - val_accuracy: 0.8780\n",
      "Epoch 63/100\n",
      "50000/50000 [==============================] - 5s 93us/step - loss: 0.0130 - accuracy: 0.9956 - val_loss: 0.8026 - val_accuracy: 0.8803\n",
      "Epoch 64/100\n",
      "50000/50000 [==============================] - 5s 90us/step - loss: 0.0132 - accuracy: 0.9955 - val_loss: 0.8165 - val_accuracy: 0.8805\n",
      "Epoch 65/100\n",
      "50000/50000 [==============================] - 4s 89us/step - loss: 0.0109 - accuracy: 0.9968 - val_loss: 0.8068 - val_accuracy: 0.8780\n",
      "Epoch 66/100\n",
      "50000/50000 [==============================] - 4s 90us/step - loss: 0.0161 - accuracy: 0.9946 - val_loss: 0.8390 - val_accuracy: 0.8806\n",
      "Epoch 67/100\n",
      "50000/50000 [==============================] - 4s 90us/step - loss: 0.0113 - accuracy: 0.9963 - val_loss: 0.8325 - val_accuracy: 0.8816\n",
      "Epoch 68/100\n",
      "50000/50000 [==============================] - 5s 92us/step - loss: 0.0113 - accuracy: 0.9963 - val_loss: 0.8670 - val_accuracy: 0.8759\n",
      "Epoch 69/100\n",
      "50000/50000 [==============================] - 5s 93us/step - loss: 0.0178 - accuracy: 0.9940 - val_loss: 0.8353 - val_accuracy: 0.8811\n",
      "Epoch 70/100\n",
      "50000/50000 [==============================] - 5s 92us/step - loss: 0.0133 - accuracy: 0.9955 - val_loss: 0.8301 - val_accuracy: 0.8808\n",
      "Epoch 71/100\n",
      "50000/50000 [==============================] - 5s 92us/step - loss: 0.0083 - accuracy: 0.9974 - val_loss: 0.8521 - val_accuracy: 0.8826\n",
      "Epoch 72/100\n",
      "50000/50000 [==============================] - 5s 91us/step - loss: 0.0095 - accuracy: 0.9969 - val_loss: 0.8784 - val_accuracy: 0.8789\n",
      "Epoch 73/100\n",
      "50000/50000 [==============================] - 5s 92us/step - loss: 0.0148 - accuracy: 0.9948 - val_loss: 0.8543 - val_accuracy: 0.8780\n",
      "Epoch 74/100\n",
      "50000/50000 [==============================] - 5s 95us/step - loss: 0.0121 - accuracy: 0.9960 - val_loss: 0.8225 - val_accuracy: 0.8812\n",
      "Epoch 75/100\n",
      "50000/50000 [==============================] - 5s 96us/step - loss: 0.0110 - accuracy: 0.9963 - val_loss: 0.8780 - val_accuracy: 0.8791\n",
      "Epoch 76/100\n",
      "50000/50000 [==============================] - 5s 95us/step - loss: 0.0111 - accuracy: 0.9962 - val_loss: 0.8993 - val_accuracy: 0.8777\n",
      "Epoch 77/100\n",
      "50000/50000 [==============================] - 5s 98us/step - loss: 0.0141 - accuracy: 0.9952 - val_loss: 0.8346 - val_accuracy: 0.8829\n",
      "Epoch 78/100\n",
      "50000/50000 [==============================] - 5s 96us/step - loss: 0.0110 - accuracy: 0.9962 - val_loss: 0.8955 - val_accuracy: 0.8809\n",
      "Epoch 79/100\n",
      "50000/50000 [==============================] - 5s 94us/step - loss: 0.0093 - accuracy: 0.9970 - val_loss: 0.8665 - val_accuracy: 0.8787\n",
      "Epoch 80/100\n",
      "50000/50000 [==============================] - 5s 92us/step - loss: 0.0096 - accuracy: 0.9968 - val_loss: 0.8875 - val_accuracy: 0.8781\n",
      "Epoch 81/100\n",
      "50000/50000 [==============================] - 5s 91us/step - loss: 0.0134 - accuracy: 0.9951 - val_loss: 0.8838 - val_accuracy: 0.8794\n",
      "Epoch 82/100\n",
      "50000/50000 [==============================] - 5s 91us/step - loss: 0.0088 - accuracy: 0.9970 - val_loss: 0.8669 - val_accuracy: 0.8804\n",
      "Epoch 83/100\n",
      "50000/50000 [==============================] - 5s 90us/step - loss: 0.0104 - accuracy: 0.9965 - val_loss: 0.8430 - val_accuracy: 0.8823\n",
      "Epoch 84/100\n",
      "50000/50000 [==============================] - 7s 144us/step - loss: 0.0086 - accuracy: 0.9972 - val_loss: 0.8809 - val_accuracy: 0.8815\n",
      "Epoch 85/100\n",
      "50000/50000 [==============================] - 7s 144us/step - loss: 0.0131 - accuracy: 0.9957 - val_loss: 0.8971 - val_accuracy: 0.8774\n",
      "Epoch 86/100\n",
      "50000/50000 [==============================] - 5s 94us/step - loss: 0.0123 - accuracy: 0.9957 - val_loss: 0.8641 - val_accuracy: 0.8785\n",
      "Epoch 87/100\n",
      "50000/50000 [==============================] - 5s 94us/step - loss: 0.0080 - accuracy: 0.9972 - val_loss: 0.8524 - val_accuracy: 0.8787\n",
      "Epoch 88/100\n",
      "50000/50000 [==============================] - 5s 91us/step - loss: 0.0085 - accuracy: 0.9973 - val_loss: 0.8863 - val_accuracy: 0.8758\n",
      "Epoch 89/100\n",
      "50000/50000 [==============================] - 5s 91us/step - loss: 0.0093 - accuracy: 0.9972 - val_loss: 0.8415 - val_accuracy: 0.8791\n",
      "Epoch 90/100\n",
      "50000/50000 [==============================] - 5s 91us/step - loss: 0.0121 - accuracy: 0.9958 - val_loss: 0.9121 - val_accuracy: 0.8775\n",
      "Epoch 91/100\n",
      "50000/50000 [==============================] - 5s 91us/step - loss: 0.0095 - accuracy: 0.9968 - val_loss: 0.8563 - val_accuracy: 0.8804\n",
      "Epoch 92/100\n",
      "50000/50000 [==============================] - 5s 91us/step - loss: 0.0093 - accuracy: 0.9969 - val_loss: 0.8504 - val_accuracy: 0.8815\n",
      "Epoch 93/100\n",
      "50000/50000 [==============================] - 5s 93us/step - loss: 0.0078 - accuracy: 0.9977 - val_loss: 0.9019 - val_accuracy: 0.8816\n",
      "Epoch 94/100\n",
      "50000/50000 [==============================] - 5s 94us/step - loss: 0.0118 - accuracy: 0.9958 - val_loss: 0.9184 - val_accuracy: 0.8817\n",
      "Epoch 95/100\n",
      "50000/50000 [==============================] - 5s 91us/step - loss: 0.0095 - accuracy: 0.9970 - val_loss: 0.9105 - val_accuracy: 0.8833\n",
      "Epoch 96/100\n",
      "50000/50000 [==============================] - 5s 91us/step - loss: 0.0083 - accuracy: 0.9974 - val_loss: 0.8731 - val_accuracy: 0.8803\n",
      "Epoch 97/100\n",
      "50000/50000 [==============================] - 5s 91us/step - loss: 0.0077 - accuracy: 0.9974 - val_loss: 0.8880 - val_accuracy: 0.8810\n",
      "Epoch 98/100\n",
      "50000/50000 [==============================] - 5s 93us/step - loss: 0.0084 - accuracy: 0.9970 - val_loss: 0.9146 - val_accuracy: 0.8825\n",
      "Epoch 99/100\n",
      "50000/50000 [==============================] - 5s 93us/step - loss: 0.0105 - accuracy: 0.9963 - val_loss: 0.9081 - val_accuracy: 0.8797\n",
      "Epoch 100/100\n",
      "50000/50000 [==============================] - 5s 94us/step - loss: 0.0066 - accuracy: 0.9979 - val_loss: 0.9042 - val_accuracy: 0.8820\n"
     ]
    }
   ],
   "source": [
    "def make_model_batch():\n",
    "          model = Sequential()\n",
    "          model.add(Dense(64, input_shape=input_shape, activation='relu'))\n",
    "          model.add(BatchNormalization())\n",
    "          model.add(Flatten())\n",
    "          model.add(Dense(64, input_shape=input_shape, activation='relu'))\n",
    "          model.add(BatchNormalization())\n",
    "          model.add(Dense(10, activation='softmax'))\n",
    "          model.compile(loss='categorical_crossentropy', optimizer='adam', metrics=['accuracy'])\n",
    "          return model\n",
    "clf2 = KerasClassifier(make_model_batch)\n",
    "res2=clf2.fit(X_train, y_train, batch_size=128, epochs=100, verbose=1,validation_split=(10000/60000))"
   ]
  },
  {
   "cell_type": "code",
   "execution_count": 73,
   "metadata": {
    "colab": {
     "base_uri": "https://localhost:8080/",
     "height": 295
    },
    "colab_type": "code",
    "id": "gidnOenkGMC_",
    "outputId": "63720589-dfa1-4a15-9efb-d3a31b13441f"
   },
   "outputs": [
    {
     "data": {
      "image/png": "[encoded data removed]",
      "text/plain": [
       "<Figure size 432x288 with 1 Axes>"
      ]
     },
     "metadata": {
      "needs_background": "light",
      "tags": []
     },
     "output_type": "display_data"
    }
   ],
   "source": [
    "pd.DataFrame(res2.history).plot()\n",
    "plt.xlabel(\"No. of epochs\")\n",
    "plt.ylabel(\"Accuracy\")\n",
    "plt.title(\"Learning curve for model with batch normalization\");"
   ]
  },
  {
   "cell_type": "code",
   "execution_count": 74,
   "metadata": {
    "colab": {
     "base_uri": "https://localhost:8080/",
     "height": 35
    },
    "colab_type": "code",
    "id": "Cub-YWjuGhKx",
    "outputId": "1d8d98eb-450a-4e17-ea29-e4d6e4ddccf6"
   },
   "outputs": [
    {
     "name": "stdout",
     "output_type": "stream",
     "text": [
      "Test Accuracy:  0.8831999897956848\n"
     ]
    }
   ],
   "source": [
    "score = clf2.score(X_test, y_test, verbose=0)\n",
    "print(\"Test Accuracy: \",score)"
   ]
  },
  {
   "cell_type": "markdown",
   "metadata": {
    "colab_type": "text",
    "id": "EOUO8U8_Lo1_"
   },
   "source": [
    "\n",
    "The performance of the model with batch normalization is better than both vanilla model and model with drop out."
   ]
  }
 ],
 "metadata": {
  "colab": {
   "collapsed_sections": [],
   "name": "AML_hw5_task2.ipynb",
   "provenance": []
  },
  "kernelspec": {
   "display_name": "Python 3",
   "language": "python",
   "name": "python3"
  },
  "language_info": {
   "codemirror_mode": {
    "name": "ipython",
    "version": 3
   },
   "file_extension": ".py",
   "mimetype": "text/x-python",
   "name": "python",
   "nbconvert_exporter": "python",
   "pygments_lexer": "ipython3",
   "version": "3.6.5"
  }
 },
 "nbformat": 4,
 "nbformat_minor": 1
}
